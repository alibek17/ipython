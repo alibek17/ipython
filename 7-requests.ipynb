{
 "cells": [
  {
   "cell_type": "code",
   "execution_count": null,
   "metadata": {},
   "outputs": [],
   "source": [
    "import requests"
   ]
  },
  {
   "cell_type": "code",
   "execution_count": null,
   "metadata": {},
   "outputs": [],
   "source": [
    "response = requests.get('https://api.academy.fuchicorp.com/v0.1/example/users')\n",
    "if response.status_code == 200:     #if the response is 200 then print the result\n",
    "    print(response.json())\n",
    "else:\n",
    "    print('Something went worng!!!')"
   ]
  },
  {
   "cell_type": "code",
   "execution_count": null,
   "metadata": {},
   "outputs": [],
   "source": [
    "user = {}\n",
    "user['username'] = 'alibek'\n",
    "user['password'] = 'alibek'\n",
    "user['firstname'] = 'Alibek'\n",
    "user['lastname'] = 'Kalyk'\n",
    "user['email'] = 'alibek@gmail.com'\n",
    "print(user)"
   ]
  },
  {
   "cell_type": "code",
   "execution_count": null,
   "metadata": {},
   "outputs": [],
   "source": [
    "response = requests.post('http://api.academy.fuchicorp.com/v0.1/create_example/user', json=user)  #add user to db\n",
    "print(response.json())"
   ]
  },
  {
   "cell_type": "code",
   "execution_count": null,
   "metadata": {},
   "outputs": [],
   "source": [
    "my_id = 'fe1df6e6-daef-4820-a811-c9ad78161eda'\n",
    "url = f'https://api.academy.fuchicorp.com/v0.1/update_example/user/{my_id}'\n",
    "user = {}\n",
    "user['username'] = 'alibek'\n",
    "user['password'] = 'alibek'\n",
    "user['firstname'] = 'Alibek'\n",
    "user['lastname'] = 'Kalyk'\n",
    "user['email'] = 'alibek@local'\n",
    "response = requests.put(url, json=user)\n",
    "print(response.json())"
   ]
  },
  {
   "cell_type": "code",
   "execution_count": null,
   "metadata": {},
   "outputs": [],
   "source": [
    "user_id = '226facad-fc52-471b-b4d6-9043db18ce8c'\n",
    "url = f'https://api.academy.fuchicorp.com/v0.1/delete_example/user/{user_id}'\n",
    "user = {\n",
    "    'username': 'alibek',\n",
    "    'password': 'alibek'\n",
    "}\n",
    "response = requests.delete(url, json=user)\n",
    "print(response.json())"
   ]
  }
 ],
 "metadata": {
  "kernelspec": {
   "display_name": "Python 3",
   "language": "python",
   "name": "python3"
  },
  "language_info": {
   "codemirror_mode": {
    "name": "ipython",
    "version": 3
   },
   "file_extension": ".py",
   "mimetype": "text/x-python",
   "name": "python",
   "nbconvert_exporter": "python",
   "pygments_lexer": "ipython3",
   "version": "3.7.3"
  }
 },
 "nbformat": 4,
 "nbformat_minor": 2
}
