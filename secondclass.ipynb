{
 "cells": [
  {
   "cell_type": "code",
   "execution_count": null,
   "metadata": {},
   "outputs": [],
   "source": [
    "print(\"Hello world\")"
   ]
  },
  {
   "cell_type": "code",
   "execution_count": null,
   "metadata": {},
   "outputs": [],
   "source": [
    "var = \"This is my string\"\n",
    "help(dir)"
   ]
  },
  {
   "cell_type": "code",
   "execution_count": null,
   "metadata": {},
   "outputs": [],
   "source": [
    "help(print)"
   ]
  },
  {
   "cell_type": "code",
   "execution_count": null,
   "metadata": {},
   "outputs": [],
   "source": [
    "help(bool)"
   ]
  },
  {
   "cell_type": "code",
   "execution_count": null,
   "metadata": {},
   "outputs": [],
   "source": [
    "my_bool = True\n",
    "if my_bool: print(\"true\")\n",
    "my_bool is True\n",
    "\n",
    "myString = 'example'\n",
    "myString is 'example2'\n",
    "type(myString)"
   ]
  },
  {
   "cell_type": "code",
   "execution_count": null,
   "metadata": {},
   "outputs": [],
   "source": [
    "myInt = 5\n",
    "myOtherInt = 10\n",
    "newInt = myOtherInt - myInt\n",
    "print(newInt)\n",
    "dir(newInt)"
   ]
  },
  {
   "cell_type": "code",
   "execution_count": null,
   "metadata": {},
   "outputs": [],
   "source": [
    "myFloat = 24.6\n",
    "newFloat = myFloat - newInt\n",
    "print(newFloat)"
   ]
  },
  {
   "cell_type": "code",
   "execution_count": null,
   "metadata": {},
   "outputs": [],
   "source": [
    "newInt = newFloat - 4\n",
    "print(newInt)"
   ]
  },
  {
   "cell_type": "code",
   "execution_count": null,
   "metadata": {},
   "outputs": [],
   "source": [
    "data = range(1,10,2)\n",
    "print(data)\n",
    "print(data[0])\n",
    "print(data[0:1])"
   ]
  },
  {
   "cell_type": "code",
   "execution_count": null,
   "metadata": {},
   "outputs": [],
   "source": [
    "myString = 'example'\n",
    "print(myString[0:4])"
   ]
  },
  {
   "cell_type": "code",
   "execution_count": null,
   "metadata": {},
   "outputs": [],
   "source": [
    "myList = [False, 'one', 'two', 'three']\n",
    "print(myList[0])\n",
    "print(myList[0:2])\n",
    "print(myList)\n",
    "myList.append('four')\n",
    "print(myList)"
   ]
  },
  {
   "cell_type": "code",
   "execution_count": null,
   "metadata": {},
   "outputs": [],
   "source": [
    "myList.remove(False)\n",
    "print(myList)"
   ]
  },
  {
   "cell_type": "code",
   "execution_count": null,
   "metadata": {},
   "outputs": [],
   "source": [
    "myList = [2, 3, 65, 1, 0, 2]\n",
    "print(myList.count(2))"
   ]
  },
  {
   "cell_type": "code",
   "execution_count": null,
   "metadata": {},
   "outputs": [],
   "source": [
    "print(myList.pop()) #delete last one by default, we can specify the index\n",
    "print(myList)\n",
    "print(myList.remove(65))\n",
    "print(myList)\n",
    "print(myList.index(0)) #find the index of the given element"
   ]
  },
  {
   "cell_type": "code",
   "execution_count": 18,
   "metadata": {},
   "outputs": [
    {
     "name": "stdout",
     "output_type": "stream",
     "text": [
      "[False, 'one', 'inserted', 'two', 'three']\n"
     ]
    }
   ],
   "source": [
    "myList = [False, 'one', 'two', 'three']\n",
    "myList.insert(2, 'inserted')\n",
    "print(myList)"
   ]
  },
  {
   "cell_type": "code",
   "execution_count": 7,
   "metadata": {},
   "outputs": [
    {
     "name": "stdout",
     "output_type": "stream",
     "text": [
      "{1: 'one', 2: 'two', 3: 'three', 'four': 'same four'}\n"
     ]
    }
   ],
   "source": [
    "myDict = {1:'one', 2:'two', 3:'three', 'four':'same four'}\n",
    "print(myDict)"
   ]
  },
  {
   "cell_type": "code",
   "execution_count": 14,
   "metadata": {},
   "outputs": [
    {
     "name": "stdout",
     "output_type": "stream",
     "text": [
      "{1: 'one', 2: 'two', 3: 'three', 'four': 1, 'count': 1}\n"
     ]
    }
   ],
   "source": [
    "myDict['count']=1\n",
    "myDict['four']=1\n",
    "print(myDict)"
   ]
  },
  {
   "cell_type": "code",
   "execution_count": 23,
   "metadata": {},
   "outputs": [
    {
     "name": "stdout",
     "output_type": "stream",
     "text": [
      "dict_values(['one', 'two', 'three', 1, 1])\n",
      "dict_keys([1, 2, 3, 'four', 'count'])\n",
      "<class 'list'>\n",
      "<class 'dict_values'>\n"
     ]
    }
   ],
   "source": [
    "myList2 = myDict.values()\n",
    "myList3 = myDict.keys()\n",
    "print(myList2)\n",
    "print(myList3)\n",
    "print(type(myList))\n",
    "print(type(myList2))"
   ]
  },
  {
   "cell_type": "code",
   "execution_count": 30,
   "metadata": {},
   "outputs": [],
   "source": [
    "mySecondData = dict(username = 'programmed', firstname='alib', lastname='kalyk')\n",
    "mySecondList = list(['data1', 'data2', 'data3'])"
   ]
  },
  {
   "cell_type": "code",
   "execution_count": 32,
   "metadata": {},
   "outputs": [
    {
     "name": "stdout",
     "output_type": "stream",
     "text": [
      "{'username': 'programmed', 'firstname': 'alib', 'lastname': 'kalyk'}\n",
      "['data1', 'data2', 'data3']\n"
     ]
    }
   ],
   "source": [
    "print(mySecondData)\n",
    "print(mySecondList)"
   ]
  },
  {
   "cell_type": "code",
   "execution_count": null,
   "metadata": {},
   "outputs": [],
   "source": []
  }
 ],
 "metadata": {
  "kernelspec": {
   "display_name": "Python 3",
   "language": "python",
   "name": "python3"
  },
  "language_info": {
   "codemirror_mode": {
    "name": "ipython",
    "version": 3
   },
   "file_extension": ".py",
   "mimetype": "text/x-python",
   "name": "python",
   "nbconvert_exporter": "python",
   "pygments_lexer": "ipython3",
   "version": "3.6.5"
  }
 },
 "nbformat": 4,
 "nbformat_minor": 2
}
