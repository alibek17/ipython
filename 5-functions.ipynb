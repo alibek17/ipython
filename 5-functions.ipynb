{
 "cells": [
  {
   "cell_type": "code",
   "execution_count": 51,
   "metadata": {},
   "outputs": [
    {
     "name": "stdout",
     "output_type": "stream",
     "text": [
      "User 11 has been added\n",
      "User 12 has been added\n",
      "User 13 has been added\n",
      "User 14 has been added\n"
     ]
    }
   ],
   "source": [
    "ec_db = []\n",
    "def new_student(firstname, lastname, username, group):\n",
    "    student = {}\n",
    "    student['firstname'] = firstname.capitalize() # input('Firstname: ').capitalize()\n",
    "    student['lastname'] = lastname.capitalize() # input('Lastname: ').capitalize()\n",
    "    student['username'] = username.lower() # input('Username: ').lower()\n",
    "    student['group'] = group.capitalize() # input('Group: ').capitalize()\n",
    "    ec_db.append(student)\n",
    "    print(f'User {username} has been added')\n",
    "\n",
    "new_student('11','11','11','11')\n",
    "new_student('12','12','12','12')\n",
    "new_student('13','13','13','13')\n",
    "new_student('14','14','14','14')          "
   ]
  },
  {
   "cell_type": "code",
   "execution_count": 50,
   "metadata": {},
   "outputs": [
    {
     "name": "stdout",
     "output_type": "stream",
     "text": [
      "User not found\n",
      "[{'firstname': 'new_first', 'lastname': 'new_last', 'username': '11', 'group': '11'}, {'firstname': '12', 'lastname': '12', 'username': '12', 'group': '12'}, {'firstname': '13', 'lastname': '13', 'username': '13', 'group': '13'}]\n",
      "[{'firstname': 'new_first', 'lastname': 'new_last', 'username': '11', 'group': '11'}, {'firstname': '12', 'lastname': '12', 'username': '12', 'group': '12'}, {'firstname': '13', 'lastname': '13', 'username': '13', 'group': '13'}]\n"
     ]
    }
   ],
   "source": [
    "def rem_user(username):\n",
    "    for user in ec_db:\n",
    "        if(username == user['username']):\n",
    "            ec_db.remove(user)\n",
    "    else:\n",
    "        print('User not found')\n",
    "rem_user('14')\n",
    "print(ec_db)\n",
    "\n",
    "def edit_student(username, firstname = None, lastname = None, group = None):\n",
    "    for user in ec_db:\n",
    "        if(username == user['username']):\n",
    "            if(firstname):\n",
    "                user['firstname'] = firstname\n",
    "                #ec_db[ec_db.index(user)]['firstname'] = firstname\n",
    "            if(lastname):\n",
    "                user['lastname'] = lastname\n",
    "                #ec_db[ec_db.index(user)]['lastname'] = lastname\n",
    "            if(group):\n",
    "                user['group'] = group\n",
    "                #ec_db[ec_db.index(user)]['group'] = group\n",
    "edit_student('11', 'new_first', 'new_last')\n",
    "print(ec_db)"
   ]
  },
  {
   "cell_type": "code",
   "execution_count": 54,
   "metadata": {},
   "outputs": [
    {
     "name": "stdout",
     "output_type": "stream",
     "text": [
      "False\n"
     ]
    }
   ],
   "source": [
    "def find_student(username):\n",
    "    for user in ec_db:\n",
    "        if(username == user['username']):\n",
    "            return user\n",
    "    return False\n",
    "print(find_student('15'))"
   ]
  },
  {
   "cell_type": "code",
   "execution_count": null,
   "metadata": {},
   "outputs": [],
   "source": []
  }
 ],
 "metadata": {
  "kernelspec": {
   "display_name": "Python 3",
   "language": "python",
   "name": "python3"
  },
  "language_info": {
   "codemirror_mode": {
    "name": "ipython",
    "version": 3
   },
   "file_extension": ".py",
   "mimetype": "text/x-python",
   "name": "python",
   "nbconvert_exporter": "python",
   "pygments_lexer": "ipython3",
   "version": "3.6.5"
  }
 },
 "nbformat": 4,
 "nbformat_minor": 2
}
