{
 "cells": [
  {
   "cell_type": "code",
   "execution_count": null,
   "metadata": {},
   "outputs": [],
   "source": [
    "%set_env do_token = digital_ocean_token"
   ]
  },
  {
   "cell_type": "code",
   "execution_count": null,
   "metadata": {},
   "outputs": [],
   "source": [
    "import os, requests\n",
    "token = os.environ.get('do_token')\n",
    "print(token)"
   ]
  },
  {
   "cell_type": "code",
   "execution_count": null,
   "metadata": {},
   "outputs": [],
   "source": [
    "url = \"https://api.digitalocean.com/v2/droplets?page=1&per_page=1\"\n",
    "!curl -X GET -H \"Content-Type: application/json\" -H \"Authorization: Bearer $do_token\" \"https://api.digitalocean.com/v2/droplets?page=1&per_page=1\" \n"
   ]
  },
  {
   "cell_type": "code",
   "execution_count": null,
   "metadata": {},
   "outputs": [],
   "source": [
    "auth = {\n",
    "        'Authorization':f'Bearer {token}',\n",
    "        'Content-Type':'application/json'\n",
    "    }\n",
    "def get_droplets():\n",
    "    url = \"https://api.digitalocean.com/v2/droplets\"\n",
    "    droplets = requests.get(url, headers=auth)\n",
    "    if droplets.status_code == 200:\n",
    "        for item in droplets.json()['droplets']:\n",
    "            print(item['name'])\n",
    "print(get_droplets())"
   ]
  },
  {
   "cell_type": "code",
   "execution_count": null,
   "metadata": {},
   "outputs": [],
   "source": [
    "#curl -X POST -H \"Content-Type: application/json\" -H \"Authorization: Bearer digital_ocean_token\" -d '{\"name\":\"example.com\",\"region\":\"nyc3\",\"size\":\"s-1vcpu-1gb\",\"image\":\"ubuntu-16-04-x64\",\"ssh_keys\":[107149],\"backups\":false,\"ipv6\":true,\"user_data\":null,\"private_networking\":null,\"volumes\": null,\"tags\":[\"web\"]}' \"https://api.digitalocean.com/v2/droplets\" \n",
    "def create_droplet(name, image):\n",
    "    url = \"https://api.digitalocean.com/v2/droplets\"\n",
    "    droplet = {\n",
    "        \"name\":name,\n",
    "        \"region\":\"nyc3\",\n",
    "        \"size\":\"s-1vcpu-1gb\",\n",
    "        \"image\":image,\n",
    "        \"ssh_keys\":[\"2f:c7:9c:17:c3:89:bb:42:da:7e:8b:b9:db:50:e3:fc\"],\n",
    "        \"backups\":False,\n",
    "        \"ipv6\":False,\n",
    "        \"user_data\":None,\n",
    "        \"private_networking\":None,\n",
    "        \"volumes\": None,\n",
    "        \"tags\":[\"web\"]\n",
    "    }\n",
    "    response = requests.post(url, headers=auth, json=droplet)\n",
    "    if response.status_code == 202:\n",
    "        return \"Droplet is being created\"\n",
    "print(create_droplet('python','ubuntu-16-04-x64'))\n",
    "\n"
   ]
  },
  {
   "cell_type": "code",
   "execution_count": null,
   "metadata": {},
   "outputs": [],
   "source": [
    "#pip install -U python-digitalocean\n",
    "import digitalocean\n",
    "manager = digitalocean.Manager(token=\"digital_ocean_token\")\n",
    "my_droplets = manager.get_all_droplets()\n",
    "print(my_droplets)\n",
    "\n",
    "my_keys = manager.get_all_sshkeys()\n",
    "print (my_keys)\n",
    "\n",
    "for droplet in my_droplets:\n",
    "    droplet.destroy()"
   ]
  },
  {
   "cell_type": "code",
   "execution_count": null,
   "metadata": {},
   "outputs": [],
   "source": [
    "def get_images():\n",
    "    url = \"https://api.digitalocean.com/v2/images?page=1&per_page=999&type=distribution\"\n",
    "    images = requests.get(url, headers=auth)\n",
    "    if images.status_code == 200:\n",
    "          for item in images.json()['images']:\n",
    "            print(item['id'], end=\"\")\n",
    "            print(' '+str(item['description']))\n",
    "get_images()"
   ]
  },
  {
   "cell_type": "code",
   "execution_count": null,
   "metadata": {},
   "outputs": [],
   "source": []
  }
 ],
 "metadata": {
  "kernelspec": {
   "display_name": "Python 3",
   "language": "python",
   "name": "python3"
  },
  "language_info": {
   "codemirror_mode": {
    "name": "ipython",
    "version": 3
   },
   "file_extension": ".py",
   "mimetype": "text/x-python",
   "name": "python",
   "nbconvert_exporter": "python",
   "pygments_lexer": "ipython3",
   "version": "3.7.3"
  }
 },
 "nbformat": 4,
 "nbformat_minor": 2
}
