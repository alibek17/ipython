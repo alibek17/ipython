{
 "cells": [
  {
   "cell_type": "code",
   "execution_count": 2,
   "metadata": {},
   "outputs": [],
   "source": [
    "import requests"
   ]
  },
  {
   "cell_type": "code",
   "execution_count": 19,
   "metadata": {},
   "outputs": [
    {
     "name": "stdout",
     "output_type": "stream",
     "text": [
      "[{'UUID': '98b3e0db-1552-4008-924e-d738fafad5ac', 'email': 'example1@gmail.com', 'firstname': 'Nazira', 'lastname': 'Sadykov', 'password': 'sha256$Lj4eMcEm$ecebe2056f5430a74133ba734806dd0613fdbbdc03a648f9b45e517ebb259bf0', 'status': '0', 'username': 'example1'}, {'UUID': '39335991-0ee7-403c-b947-0b9f25c48d62', 'email': 'nsaip@evolvecyber.com', 'firstname': 'Nadira', 'lastname': 'Saip', 'password': 'sha256$Kuj2A0SD$e75401a41b893296222f4cf84ee70b9bebd87541b6c8607ceadeaf3c0ee46a92', 'status': '0', 'username': 'nsaip'}, {'UUID': '58a13d01-c356-4d11-a3ff-432aa146941b', 'email': 'ali@fake.com', 'firstname': 'ahmed', 'lastname': 'alii', 'password': 'sha256$QxAyD0T1$9ce08478863d1577985e3e468bba984237b85637cd285ad01f42f9e9b56f5ccf', 'status': '0', 'username': 'ahmadali'}, {'UUID': '0e42460c-0d5d-45e3-80ae-017cdd58e6b2', 'email': 'fsadykov@fuchicorp.com', 'firstname': 'Farkhod', 'lastname': 'Sadykov', 'password': 'sha256$Dn0W4IxG$bb96696f8af720d012c3128301c9012ae296ab8a500684ee350b2ebe8b8e54df', 'status': '0', 'username': 'fsadykov'}, {'UUID': '4561e7c6-49e9-4188-afef-4164c962db95', 'email': 'pikachu@gmail.com', 'firstname': 'Nunya', 'lastname': 'Kuku', 'password': 'sha256$eCr5GjSZ$e335bd0b7c39113b574a368db45ed2370866f738d54f349e458196c3f3ece802', 'status': '0', 'username': 'nerkin'}, {'UUID': 'f3ae7eec-9ed5-46f0-97f6-b54c38e3c177', 'email': 'saddiani@gmail.com', 'firstname': 'said', 'lastname': 'addiani', 'password': 'sha256$73p9jQeJ$971ac6cab94c1e0b1c3f5b56a3f97174a2825add0fb9734acc8178346544893b', 'status': '0', 'username': 'sabil'}, {'UUID': '2188da0a-2932-4985-bee9-6feb211bcb5d', 'email': 'ashanti@gmail.com', 'firstname': 'ashanti', 'lastname': 'ashanti', 'password': 'sha256$D20KC2Vt$14e6835cab3bf877bc643d923a28435540ed4024c3a9b62df0db482cf9f5aa06', 'status': '0', 'username': 'timur'}, {'UUID': '293fb05d-44ea-4bff-9782-f04d92a3a705', 'email': 'turganbaeva@gmail.com', 'firstname': 'nurjan', 'lastname': 'turganbaeva', 'password': 'sha256$0cgvPevw$ce846afa7526477e5771715c7dc3e2358cb2fffca32ad49eaf3f2660f1ff048c', 'status': '0', 'username': 'nurjan'}, {'UUID': '044390a7-e069-4ee6-9e85-e98512b835f0', 'email': 'aidin@gmail.com', 'firstname': 'Aidin', 'lastname': 'Kobonov', 'password': 'sha256$uug4XdKh$18ffd393fac8b86d11631f3d83f41dd85ee1081ed6a299ee8022214ca0d8e87a', 'status': '0', 'username': 'akobonov'}, {'UUID': '2c7a8333-e3a6-473d-9e45-695b04436892', 'email': 'test@testing.com', 'firstname': 'NadiraTest', 'lastname': 'Saiptest', 'password': 'sha256$JBnLdC8U$d3df44456e538ec5fcfd57f011e7b5bb4667bc98fe72061de55965e326030640', 'status': '0', 'username': 'test'}, {'UUID': '5572b736-2b3b-4dfe-9b20-6994f5443c65', 'email': 'chaglare@gmail.com', 'firstname': 'Caglar', 'lastname': 'Cavdar', 'password': 'sha256$yg0MfKW0$2eecdd5be1a9c9cd5654686c514dc35e0e440b15a93c6f9ed8a88620c8ad176d', 'status': '0', 'username': 'chaglare'}, {'UUID': '0b614374-43c6-464d-b5d6-43dacd4dce3d', 'email': 'Kevin@gmail.com', 'firstname': 'Philya', 'lastname': 'Kirilov', 'password': 'sha256$OkNBBlqe$24b0b76ba59154e22ab176cc38c314837cf145eb2ece60d6bc5871ea204ab743', 'status': '0', 'username': 'kevin'}]\n"
     ]
    }
   ],
   "source": [
    "response = requests.get('https://api.academy.fuchicorp.com/v0.1/example/users')\n",
    "if response.status_code == 200:     #if the response is 200 then print the result\n",
    "    print(response.json())\n",
    "else:\n",
    "    print('Something went worng!!!')"
   ]
  },
  {
   "cell_type": "code",
   "execution_count": 20,
   "metadata": {},
   "outputs": [
    {
     "name": "stdout",
     "output_type": "stream",
     "text": [
      "{'username': 'alibek', 'password': 'alibek', 'firstname': 'Alibek', 'lastname': 'Kalyk', 'email': 'alibek@gmail.com'}\n"
     ]
    }
   ],
   "source": [
    "user = {}\n",
    "user['username'] = 'alibek'\n",
    "user['password'] = 'alibek'\n",
    "user['firstname'] = 'Alibek'\n",
    "user['lastname'] = 'Kalyk'\n",
    "user['email'] = 'alibek@gmail.com'\n",
    "print(user)"
   ]
  },
  {
   "cell_type": "code",
   "execution_count": 21,
   "metadata": {},
   "outputs": [
    {
     "name": "stdout",
     "output_type": "stream",
     "text": [
      "{'message': 'User has been created!!'}\n"
     ]
    }
   ],
   "source": [
    "response = requests.post('http://api.academy.fuchicorp.com/v0.1/create_example/user', json=user)  #add user to db\n",
    "print(response.json())"
   ]
  },
  {
   "cell_type": "code",
   "execution_count": 22,
   "metadata": {},
   "outputs": [
    {
     "name": "stdout",
     "output_type": "stream",
     "text": [
      "{'message': 'User information has been updated!!'}\n"
     ]
    }
   ],
   "source": [
    "my_id = 'fe1df6e6-daef-4820-a811-c9ad78161eda'\n",
    "url = f'https://api.academy.fuchicorp.com/v0.1/update_example/user/{my_id}'\n",
    "user = {}\n",
    "user['username'] = 'alibek'\n",
    "user['password'] = 'alibek'\n",
    "user['firstname'] = 'Alibek'\n",
    "user['lastname'] = 'Kalyk'\n",
    "user['email'] = 'alibek@local'\n",
    "response = requests.put(url, json=user)\n",
    "print(response.json())"
   ]
  },
  {
   "cell_type": "code",
   "execution_count": 24,
   "metadata": {},
   "outputs": [
    {
     "name": "stdout",
     "output_type": "stream",
     "text": [
      "{'message': 'User has been deleted!!', 'user_id': '226facad-fc52-471b-b4d6-9043db18ce8c'}\n"
     ]
    }
   ],
   "source": [
    "user_id = '226facad-fc52-471b-b4d6-9043db18ce8c'\n",
    "url = f'https://api.academy.fuchicorp.com/v0.1/delete_example/user/{user_id}'\n",
    "user = {\n",
    "    'username': 'alibek',\n",
    "    'password': 'alibek'\n",
    "}\n",
    "response = requests.delete(url, json=user)\n",
    "print(response.json())"
   ]
  }
 ],
 "metadata": {
  "kernelspec": {
   "display_name": "Python 3",
   "language": "python",
   "name": "python3"
  },
  "language_info": {
   "codemirror_mode": {
    "name": "ipython",
    "version": 3
   },
   "file_extension": ".py",
   "mimetype": "text/x-python",
   "name": "python",
   "nbconvert_exporter": "python",
   "pygments_lexer": "ipython3",
   "version": "3.7.3"
  }
 },
 "nbformat": 4,
 "nbformat_minor": 2
}
