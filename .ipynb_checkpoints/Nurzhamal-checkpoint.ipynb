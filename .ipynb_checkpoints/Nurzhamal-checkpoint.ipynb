{
 "cells": [
  {
   "cell_type": "code",
   "execution_count": 4,
   "metadata": {},
   "outputs": [
    {
     "name": "stdout",
     "output_type": "stream",
     "text": [
      "23h14m3s\n"
     ]
    }
   ],
   "source": [
    "def solution1(T):\n",
    "    hours = T // 3600\n",
    "    minutes = (T%3600)//60\n",
    "    seconds = (T%3600)%60\n",
    "    print(f'{hours}h{minutes}m{seconds}s')\n",
    "\n",
    "\n",
    "solution(83643)"
   ]
  },
  {
   "cell_type": "code",
   "execution_count": 11,
   "metadata": {},
   "outputs": [
    {
     "name": "stdout",
     "output_type": "stream",
     "text": [
      "5\n"
     ]
    }
   ],
   "source": [
    "import math\n",
    "def solution3(A,B):\n",
    "    count = 0\n",
    "    if (B<0):\n",
    "        return 0\n",
    "    if (A<0):\n",
    "        A = 0\n",
    "    for i in range(A,B+1):\n",
    "        sqrtv = math.sqrt(i)\n",
    "        if(sqrtv == int(sqrtv)):\n",
    "            count = count +1\n",
    "    return(count)\n",
    "print(solution3(-4,17))"
   ]
  },
  {
   "cell_type": "code",
   "execution_count": 17,
   "metadata": {},
   "outputs": [
    {
     "name": "stdout",
     "output_type": "stream",
     "text": [
      "1\n"
     ]
    }
   ],
   "source": [
    "def solution2(M, A):\n",
    "    N = len(A)\n",
    "    count = [0] * (M + 1)\n",
    "    maxOccurence = 1\n",
    "    index = -1\n",
    "    for i in range(N):\n",
    "        if count[A[i]] > 0:\n",
    "            tmp = count[A[i]]\n",
    "            if tmp >= maxOccurence:\n",
    "                maxOccurence = tmp+1\n",
    "                index = i\n",
    "            count[A[i]] = tmp+1\n",
    "        else:\n",
    "            count[A[i]] = 1\n",
    "    return A[index]\n",
    "\n",
    "m = 3\n",
    "a = [1,1,1,2,3]\n",
    "result = solution2(m, a)\n",
    "print(result)\n"
   ]
  },
  {
   "cell_type": "code",
   "execution_count": null,
   "metadata": {},
   "outputs": [],
   "source": [
    "def solutions(S):\n",
    "    music = ['mp3', 'aac', 'flac']\n",
    "    image = ['jpg', 'bmp', 'gif']\n",
    "    movie = ['mp4', 'avi', 'mkv']\n",
    "    music_size = 0\n",
    "    image_size = 0\n",
    "    movie_size = 0\n",
    "    other_size = 0\n",
    "    for line in S.splitlines():\n",
    "        name_size = line.split(' ')\n",
    "        filename = name_size[0].split('.')\n",
    "        filesize = name_size[1]\n",
    "        if(filename[-1:][0] in music):\n",
    "            music_size = music_size + int(filesize[:-1])\n",
    "        elif(filename[-1:][0] in image):\n",
    "            image_size = image_size + int(filesize[:-1])\n",
    "        elif(filename[-1:][0] in movie):\n",
    "            movie_size = movie_size + int(filesize[:-1])\n",
    "        else:\n",
    "            other_size = other_size + int(filesize[:-1])\n",
    "    result = f\"\"\"music {music_size}b\\nimages {image_size}b\\nmovies {movie_size}b\\nother {other_size}b\"\"\"\n",
    "    return(result)"
   ]
  }
 ],
 "metadata": {
  "kernelspec": {
   "display_name": "Python 3",
   "language": "python",
   "name": "python3"
  },
  "language_info": {
   "codemirror_mode": {
    "name": "ipython",
    "version": 3
   },
   "file_extension": ".py",
   "mimetype": "text/x-python",
   "name": "python",
   "nbconvert_exporter": "python",
   "pygments_lexer": "ipython3",
   "version": "3.7.3"
  }
 },
 "nbformat": 4,
 "nbformat_minor": 2
}
