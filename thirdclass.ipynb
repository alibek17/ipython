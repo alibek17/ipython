{
 "cells": [
  {
   "cell_type": "code",
   "execution_count": null,
   "metadata": {},
   "outputs": [],
   "source": [
    "door = 'open'\n",
    "if (door == 'open'):\n",
    "    print('you can go')\n",
    "elif (door == 'closed'):\n",
    "    print('you cannot go')\n",
    "else:\n",
    "    print('i don\\'t care')"
   ]
  },
  {
   "cell_type": "code",
   "execution_count": null,
   "metadata": {},
   "outputs": [],
   "source": [
    "name = input('What is your name? ').capitalize()\n",
    "if (name == \"Ahmad\"):\n",
    "    print('Hello, ' + name)\n",
    "else:\n",
    "    print('Hello, stranger')"
   ]
  },
  {
   "cell_type": "code",
   "execution_count": 9,
   "metadata": {},
   "outputs": [
    {
     "name": "stdout",
     "output_type": "stream",
     "text": [
      "Enter a letter of a latin alphabet;\n",
      "Not a valid letter\n"
     ]
    }
   ],
   "source": [
    "vowels = ['a', 'e', 'i', 'u', 'o']\n",
    "consonants = ['b','c','d','q','w','r','t','y','p','s','f','g','h','j','k','l','z','x','v','n','m']\n",
    "char = input('Enter a letter of a latin alphabet').lower()\n",
    "if(char in vowels):\n",
    "    print(\"Vowel\")\n",
    "elif(char in consonants):\n",
    "    print('Consonant')\n",
    "else:\n",
    "    print('Not a valid letter')"
   ]
  },
  {
   "cell_type": "code",
   "execution_count": null,
   "metadata": {},
   "outputs": [],
   "source": []
  }
 ],
 "metadata": {
  "kernelspec": {
   "display_name": "Python 3",
   "language": "python",
   "name": "python3"
  },
  "language_info": {
   "codemirror_mode": {
    "name": "ipython",
    "version": 3
   },
   "file_extension": ".py",
   "mimetype": "text/x-python",
   "name": "python",
   "nbconvert_exporter": "python",
   "pygments_lexer": "ipython3",
   "version": "3.6.5"
  }
 },
 "nbformat": 4,
 "nbformat_minor": 2
}
