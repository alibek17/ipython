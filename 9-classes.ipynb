{
 "cells": [
  {
   "cell_type": "code",
   "execution_count": 58,
   "metadata": {},
   "outputs": [],
   "source": [
    "database = []\n",
    "class Human:\n",
    "    def print_info(self):\n",
    "        print(self.fname + ' ' + self.lname)\n",
    "    \n",
    "    def __init__(self, firstname):\n",
    "        self.fname = firstname\n",
    "        self.lname = 'ltest'\n",
    "    \n",
    "    def __lprint():\n",
    "        print('private method')\n",
    "    \n",
    "    def save_info(self):\n",
    "        user = {\n",
    "            'Firstname':self.fname,\n",
    "            'Lastname':self.lname,\n",
    "            'Gender':self.gender\n",
    "        }\n",
    "        if(user not in database):\n",
    "            database.append(user)"
   ]
  },
  {
   "cell_type": "code",
   "execution_count": 59,
   "metadata": {},
   "outputs": [
    {
     "name": "stdout",
     "output_type": "stream",
     "text": [
      "argname\n",
      "argname Smith\n",
      "[{'Firstname': 'argname', 'Lastname': 'Smith', 'Gender': 'f'}]\n"
     ]
    }
   ],
   "source": [
    "user1 = Human('argname')\n",
    "#user1.fname = 'Kyle'\n",
    "user1.lname = 'Smith'\n",
    "user1.gender = 'f'\n",
    "user1.status = True\n",
    "\n",
    "print(user1.fname)\n",
    "user1.print_info()\n",
    "user1.save_info()\n",
    "print(database)"
   ]
  },
  {
   "cell_type": "code",
   "execution_count": 86,
   "metadata": {},
   "outputs": [],
   "source": [
    "class Manager(Human):\n",
    "    def __init__(self, firstname):\n",
    "        self.status = True\n",
    "        super().__init__(firstname)\n",
    "        "
   ]
  },
  {
   "cell_type": "code",
   "execution_count": 87,
   "metadata": {},
   "outputs": [],
   "source": [
    "man1 = Manager('manName')\n",
    "man1.lname = 'manLname'\n",
    "man1.gender = 'm'"
   ]
  },
  {
   "cell_type": "code",
   "execution_count": 88,
   "metadata": {},
   "outputs": [
    {
     "name": "stdout",
     "output_type": "stream",
     "text": [
      "manName manLname\n",
      "True\n"
     ]
    }
   ],
   "source": [
    "man1.print_info()\n",
    "print(man1.status)"
   ]
  },
  {
   "cell_type": "code",
   "execution_count": null,
   "metadata": {},
   "outputs": [],
   "source": []
  }
 ],
 "metadata": {
  "kernelspec": {
   "display_name": "Python 3",
   "language": "python",
   "name": "python3"
  },
  "language_info": {
   "codemirror_mode": {
    "name": "ipython",
    "version": 3
   },
   "file_extension": ".py",
   "mimetype": "text/x-python",
   "name": "python",
   "nbconvert_exporter": "python",
   "pygments_lexer": "ipython3",
   "version": "3.7.3"
  }
 },
 "nbformat": 4,
 "nbformat_minor": 2
}
